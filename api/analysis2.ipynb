{
 "cells": [
  {
   "cell_type": "markdown",
   "id": "b0511939",
   "metadata": {},
   "source": [
    "# Caption Analysis"
   ]
  },
  {
   "cell_type": "code",
   "execution_count": 2,
   "id": "0a7592e5-ec9b-4cee-93a5-e549c1fccdae",
   "metadata": {},
   "outputs": [],
   "source": [
    "import tiktoken\n",
    "import pandas as pd\n",
    "import openai\n",
    "from time import sleep\n",
    "import os\n",
    "file_path = \"../../openai_key.txt\"\n",
    "\n",
    "with open(file_path, \"r\") as file:\n",
    "    key = file.read()\n",
    "openai.api_key = key"
   ]
  },
  {
   "cell_type": "code",
   "execution_count": 3,
   "id": "121112a2-bd67-40dd-a139-77811c4197e5",
   "metadata": {},
   "outputs": [],
   "source": [
    "encoding = tiktoken.get_encoding(\"cl100k_base\")\n",
    "encoding = tiktoken.encoding_for_model(\"gpt-3.5-turbo\")"
   ]
  },
  {
   "cell_type": "code",
   "execution_count": 4,
   "id": "42439cc9-dea2-471e-92cf-495242d9477d",
   "metadata": {},
   "outputs": [],
   "source": [
    "# Word Counting Function\n",
    "def num_tokens_from_string(string: str, encoding_name: str) -> int:\n",
    "    \"\"\"Returns the number of tokens in a text string.\"\"\"\n",
    "    encoding = tiktoken.get_encoding(encoding_name)\n",
    "    num_tokens = len(encoding.encode(string))\n",
    "    return num_tokens"
   ]
  },
  {
   "cell_type": "code",
   "execution_count": 5,
   "id": "3cb47a4b",
   "metadata": {},
   "outputs": [],
   "source": [
    "def get_questions_anwers(promt):\n",
    "    completion = openai.ChatCompletion.create(\n",
    "    model=\"gpt-3.5-turbo\",\n",
    "    messages=[\n",
    "        {\"role\": \"user\",\n",
    "         \"content\": promt}\n",
    "    ])\n",
    "    questions_answers = completion.choices[0].message.content\n",
    "    return questions_answers"
   ]
  },
  {
   "cell_type": "code",
   "execution_count": 6,
   "id": "3f1345bf",
   "metadata": {},
   "outputs": [],
   "source": [
    "def chatgpt(promt):\n",
    "    success = False\n",
    "    while not success:\n",
    "        try:\n",
    "            qa_pairs = get_questions_anwers(promt)\n",
    "            success = True\n",
    "        except:\n",
    "            print(\"retrying\")\n",
    "            sleep(5)\n",
    "    return qa_pairs\n",
    "    "
   ]
  },
  {
   "cell_type": "code",
   "execution_count": 7,
   "id": "756879e9",
   "metadata": {},
   "outputs": [
    {
     "name": "stdout",
     "output_type": "stream",
     "text": [
      "retrying\n",
      "retrying\n"
     ]
    }
   ],
   "source": [
    "def combined_promt(caption_1, caption_2, requirement):\n",
    "    \n",
    "    return f\"{requirement}\\ncontext 1: {caption_1} \\ncontext 2: {caption_2}\\noutput:\"\n",
    "\n",
    "def qa_generator(csv_path, demo = True):\n",
    "    df = pd.read_csv(csv_path)\n",
    "    if demo:\n",
    "        df = df[:10]\n",
    "    df = df[[\"id\", \"img\", \"caption_1\", \"caption_2\"]]\n",
    "\n",
    "    requirement = \"You are required to ask about 10 questions about 2 given contexts. \" + \\\n",
    "    \"The question topics are: yes/no, counting, object, activity, \" + \\\n",
    "    \"color, posistion. Answer within 3 words.\\n\" + \\\n",
    "    \"context 1: a man is jumping to catch a ball.\\n\" + \\\n",
    "    \"context 2: a white ball is being catch by a man.\\n\" + \\\n",
    "    \"output:1. What is he doing?\\nJumping.\\n2. What sport is he playing?\\nFootball.\\n3. What color is the ball?\\nwhite.\"\n",
    "\n",
    "    df['promt_3'] = df[[\"caption_1\", \"caption_2\"]].apply(lambda row: combined_promt(row[\"caption_1\"], row[\"caption_2\"], requirement), axis=1)\n",
    "    df['qa pairs'] = df['promt_3'].map(chatgpt)\n",
    "\n",
    "    return df\n",
    "\n",
    "result = qa_generator(\"clean_cartoon.csv\")"
   ]
  },
  {
   "cell_type": "code",
   "execution_count": 13,
   "id": "670d1e5e",
   "metadata": {},
   "outputs": [],
   "source": [
    "result2 = result[[\"id\", \"img\", \"qa pairs\"]]"
   ]
  },
  {
   "cell_type": "code",
   "execution_count": 15,
   "id": "de90f520",
   "metadata": {},
   "outputs": [],
   "source": [
    "def qa_processing(string):\n",
    "    lines = string.split('\\n')\n",
    "    \n",
    "    # Extract the question lines (odd indices)\n",
    "    questions = [line.split('. ')[1] for line in lines[::2]]\n",
    "    \n",
    "    # Extract the answer lines (even indices)\n",
    "    answers = [line for line in lines[1::2]]\n",
    "    return questions, answers"
   ]
  },
  {
   "cell_type": "code",
   "execution_count": 31,
   "id": "5e324bd9",
   "metadata": {},
   "outputs": [],
   "source": [
    "annotation_data = []\n",
    "question_data = []\n",
    "answer_id = 1\n",
    "question_id = 1\n",
    "img_ids = []\n",
    "imgs = []\n",
    "questions = []\n",
    "question_ids = []\n",
    "answers = []\n",
    "answer_ids = []\n",
    "for idx in range(len(result2)):    \n",
    "    img_id, img,  qa_pairs= result2.iloc[idx]\n",
    "    ques, ans = qa_processing(qa_pairs)\n",
    "    for i,q in enumerate(ques):\n",
    "        ques_item = {\n",
    "            'image_name': img,\n",
    "            'image_id': img_id,\n",
    "            'question': q,\n",
    "            'question_id': question_id\n",
    "        }\n",
    "        question_data.append(ques_item)\n",
    "        \n",
    "        ann_item = {\n",
    "            'question_type': q.split(\" \")[0],\n",
    "            'answers': ans[i],\n",
    "            'image_id': img_id,\n",
    "            'question_id': question_id,\n",
    "            'answer_id': answer_id\n",
    "        }\n",
    "\n",
    "        annotation_data.append(ann_item )\n",
    "        \n",
    "        img_ids.append(img_id)\n",
    "        imgs.append(img)\n",
    "        questions.append(q)\n",
    "        question_ids.append(question_id)\n",
    "        answers.append(ans[i])\n",
    "        answer_ids.append(answer_id)\n",
    "        answer_id += 1\n",
    "        question_id+=1\n",
    "        \n"
   ]
  },
  {
   "cell_type": "code",
   "execution_count": 32,
   "id": "2cbf0013",
   "metadata": {},
   "outputs": [
    {
     "data": {
      "text/plain": [
       "[{'image_name': 'S28E11-07151',\n",
       "  'image_id': 2,\n",
       "  'question': 'What activity are the people doing?',\n",
       "  'question_id': 6},\n",
       " {'image_name': 'S28E11-07151',\n",
       "  'image_id': 2,\n",
       "  'question': 'What is the position of the people?',\n",
       "  'question_id': 7},\n",
       " {'image_name': 'S28E07-20101',\n",
       "  'image_id': 3,\n",
       "  'question': 'What is the man holding?',\n",
       "  'question_id': 8},\n",
       " {'image_name': 'S28E07-20101',\n",
       "  'image_id': 3,\n",
       "  'question': 'What is he wearing?',\n",
       "  'question_id': 9},\n",
       " {'image_name': 'S28E07-20101',\n",
       "  'image_id': 3,\n",
       "  'question': 'What else is on the wall?',\n",
       "  'question_id': 10}]"
      ]
     },
     "execution_count": 32,
     "metadata": {},
     "output_type": "execute_result"
    }
   ],
   "source": [
    "question_data[5:10]"
   ]
  },
  {
   "cell_type": "code",
   "execution_count": 33,
   "metadata": {},
   "outputs": [
    {
     "data": {
      "text/plain": [
       "[{'question_type': 'What',\n",
       "  'answers': 'Holding a cup.',\n",
       "  'image_id': 2,\n",
       "  'question_id': 6,\n",
       "  'answer_id': 6},\n",
       " {'question_type': 'What',\n",
       "  'answers': 'Standing.',\n",
       "  'image_id': 2,\n",
       "  'question_id': 7,\n",
       "  'answer_id': 7},\n",
       " {'question_type': 'What',\n",
       "  'answers': 'Stick.',\n",
       "  'image_id': 3,\n",
       "  'question_id': 8,\n",
       "  'answer_id': 8},\n",
       " {'question_type': 'What',\n",
       "  'answers': 'White shirt, blue pants.',\n",
       "  'image_id': 3,\n",
       "  'question_id': 9,\n",
       "  'answer_id': 9},\n",
       " {'question_type': 'What',\n",
       "  'answers': 'Mirror, clock.',\n",
       "  'image_id': 3,\n",
       "  'question_id': 10,\n",
       "  'answer_id': 10}]"
      ]
     },
     "execution_count": 33,
     "metadata": {},
     "output_type": "execute_result"
    }
   ],
   "source": [
    "annotation_data[5:10]"
   ]
  },
  {
   "cell_type": "code",
   "execution_count": null,
   "id": "3ab84976",
   "metadata": {},
   "outputs": [],
   "source": [
    "data = pd.DataFrame([])\n",
    "data[\"id\"] = img_ids \n",
    "data[\"img\"] = imgs\n",
    "data[\"question id\"] = question_ids\n",
    "data[\"question\"] = questions\n",
    "data[\"answer id\"] = answer_ids\n",
    "answers = []\n",
    "answer_ids = []\n"
   ]
  }
 ],
 "metadata": {
  "kernelspec": {
   "display_name": "Python 3 (ipykernel)",
   "language": "python",
   "name": "python3"
  },
  "language_info": {
   "codemirror_mode": {
    "name": "ipython",
    "version": 3
   },
   "file_extension": ".py",
   "mimetype": "text/x-python",
   "name": "python",
   "nbconvert_exporter": "python",
   "pygments_lexer": "ipython3",
   "version": "3.8.16"
  },
  "vscode": {
   "interpreter": {
    "hash": "916dbcbb3f70747c44a77c7bcd40155683ae19c65e1c03b4aa3499c5328201f1"
   }
  }
 },
 "nbformat": 4,
 "nbformat_minor": 5
}
