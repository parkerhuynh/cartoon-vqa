{
 "cells": [
  {
   "cell_type": "markdown",
   "id": "d988ece4-c4f2-468b-b6d3-a93725b288b0",
   "metadata": {},
   "source": [
    "# Caption Analysis"
   ]
  },
  {
   "cell_type": "code",
   "execution_count": 1,
   "id": "0a7592e5-ec9b-4cee-93a5-e549c1fccdae",
   "metadata": {},
   "outputs": [],
   "source": [
    "import tiktoken\n",
    "import pandas as pd\n",
    "import openai\n",
    "from time import sleep\n",
    "import os\n",
    "file_path = \"../../openai_key.txt\"\n",
    "\n",
    "with open(file_path, \"r\") as file:\n",
    "    key = file.read()\n",
    "openai.api_key = key"
   ]
  },
  {
   "cell_type": "code",
   "execution_count": 2,
   "id": "121112a2-bd67-40dd-a139-77811c4197e5",
   "metadata": {},
   "outputs": [],
   "source": [
    "encoding = tiktoken.get_encoding(\"cl100k_base\")\n",
    "encoding = tiktoken.encoding_for_model(\"gpt-3.5-turbo\")"
   ]
  },
  {
   "cell_type": "code",
   "execution_count": 3,
   "id": "42439cc9-dea2-471e-92cf-495242d9477d",
   "metadata": {},
   "outputs": [],
   "source": [
    "# Word Counting Function\n",
    "def num_tokens_from_string(string: str, encoding_name: str) -> int:\n",
    "    \"\"\"Returns the number of tokens in a text string.\"\"\"\n",
    "    encoding = tiktoken.get_encoding(encoding_name)\n",
    "    num_tokens = len(encoding.encode(string))\n",
    "    return num_tokens"
   ]
  },
  {
   "cell_type": "code",
   "execution_count": 4,
   "id": "3cb47a4b",
   "metadata": {},
   "outputs": [],
   "source": [
    "def get_questions_anwers(promt):\n",
    "    completion = openai.ChatCompletion.create(\n",
    "    model=\"gpt-3.5-turbo\",\n",
    "    messages=[\n",
    "        {\"role\": \"user\",\n",
    "         \"content\": promt}\n",
    "    ])\n",
    "    questions_answers = completion.choices[0].message.content\n",
    "    return questions_answers"
   ]
  },
  {
   "cell_type": "code",
   "execution_count": 5,
   "id": "3f1345bf",
   "metadata": {},
   "outputs": [],
   "source": [
    "def chatgpt(promt):\n",
    "    success = False\n",
    "    while not success:\n",
    "        try:\n",
    "            qa_pairs = get_questions_anwers(promt)\n",
    "            success = True\n",
    "        except:\n",
    "            print(\"retrying\")\n",
    "            sleep(5)\n",
    "    print(\"-\"*50)\n",
    "    print(qa_pairs)\n",
    "    return qa_pairs\n",
    "    "
   ]
  },
  {
   "cell_type": "code",
   "execution_count": 6,
   "id": "756879e9",
   "metadata": {},
   "outputs": [
    {
     "name": "stdout",
     "output_type": "stream",
     "text": [
      "1. Is the wallpaper animated?\n",
      "Yes.\n",
      "2. How many people are holding a cup?\n",
      "Two.\n",
      "3. What object is in the background?\n",
      "Microwave.\n",
      "1. Is the man holding a stick?\n",
      "Yes.\n",
      "2. What is the man wearing?\n",
      "White shirt, blue pants.\n",
      "3. What objects are on the wall?\n",
      "Mirror, clock.\n",
      "retrying\n"
     ]
    }
   ],
   "source": [
    "def combined_promt(caption_1, caption_2, requirement):\n",
    "    \n",
    "    return f\"{requirement}\\ncontext 1: {caption_1} \\ncontext 2: {caption_2}\\noutput:\"\n",
    "\n",
    "def qa_generator(csv_path, demo = True):\n",
    "    df = pd.read_csv(csv_path)\n",
    "    if demo:\n",
    "        df = df[:10]\n",
    "    df = df[[\"id\", \"img\", \"caption_1\", \"caption_2\"]]\n",
    "\n",
    "    requirement = \"You are required to ask about 10 questions about 2 given contexts. \" + \\\n",
    "    \"The question topics are: yes/no, counting, object, activity, \" + \\\n",
    "    \"color, posistion. Answer within 3 words.\\n\" + \\\n",
    "    \"context 1: a man is jumping to catch a ball.\\n\" + \\\n",
    "    \"context 2: a white ball is being catch by a man.\\n\" + \\\n",
    "    \"output:1. What is he doing?\\nJumping.\\n2. What sport is he playing?\\nFootball.\\n3. What color is the ball?\\nwhite.\"\n",
    "\n",
    "    df['promt_3'] = df[[\"caption_1\", \"caption_2\"]].apply(lambda row: combined_promt(row[\"caption_1\"], row[\"caption_2\"], requirement), axis=1)\n",
    "    df['qa pairs'] = df['promt_3'].map(chatgpt)\n",
    "\n",
    "    return df\n",
    "\n",
    "result = qa_generator(\"clean_cartoon.csv\")"
   ]
  },
  {
   "cell_type": "code",
   "execution_count": null,
   "id": "670d1e5e",
   "metadata": {},
   "outputs": [],
   "source": [
    "result        "
   ]
  },
  {
   "cell_type": "code",
   "execution_count": null,
   "id": "5e324bd9",
   "metadata": {},
   "outputs": [],
   "source": []
  },
  {
   "cell_type": "code",
   "execution_count": null,
   "id": "2cbf0013",
   "metadata": {},
   "outputs": [],
   "source": []
  }
 ],
 "metadata": {
  "kernelspec": {
   "display_name": "Python 3 (ipykernel)",
   "language": "python",
   "name": "python3"
  },
  "language_info": {
   "codemirror_mode": {
    "name": "ipython",
    "version": 3
   },
   "file_extension": ".py",
   "mimetype": "text/x-python",
   "name": "python",
   "nbconvert_exporter": "python",
   "pygments_lexer": "ipython3",
   "version": "3.8.10"
  },
  "vscode": {
   "interpreter": {
    "hash": "916dbcbb3f70747c44a77c7bcd40155683ae19c65e1c03b4aa3499c5328201f1"
   }
  }
 },
 "nbformat": 4,
 "nbformat_minor": 5
}
