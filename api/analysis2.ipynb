{
 "cells": [
  {
   "cell_type": "markdown",
   "id": "b0511939",
   "metadata": {},
   "source": [
    "# Caption Analysis"
   ]
  },
  {
   "cell_type": "code",
   "execution_count": 40,
   "id": "0a7592e5-ec9b-4cee-93a5-e549c1fccdae",
   "metadata": {},
   "outputs": [],
   "source": [
    "import tiktoken\n",
    "import pandas as pd\n",
    "import openai\n",
    "from time import sleep\n",
    "import os\n",
    "file_path = \"../../openai_key.txt\"\n",
    "\n",
    "with open(file_path, \"r\") as file:\n",
    "    key = file.read()\n",
    "openai.api_key = key\n",
    "import numpy as np\n",
    "import json\n",
    "import time"
   ]
  },
  {
   "cell_type": "code",
   "execution_count": 14,
   "id": "121112a2-bd67-40dd-a139-77811c4197e5",
   "metadata": {},
   "outputs": [],
   "source": [
    "encoding = tiktoken.get_encoding(\"cl100k_base\")\n",
    "encoding = tiktoken.encoding_for_model(\"gpt-3.5-turbo\")"
   ]
  },
  {
   "cell_type": "code",
   "execution_count": 15,
   "id": "42439cc9-dea2-471e-92cf-495242d9477d",
   "metadata": {},
   "outputs": [],
   "source": [
    "# Word Counting Function\n",
    "def num_tokens_from_string(string: str, encoding_name: str) -> int:\n",
    "    \"\"\"Returns the number of tokens in a text string.\"\"\"\n",
    "    encoding = tiktoken.get_encoding(encoding_name)\n",
    "    num_tokens = len(encoding.encode(string))\n",
    "    return num_tokens"
   ]
  },
  {
   "cell_type": "code",
   "execution_count": 16,
   "id": "3cb47a4b",
   "metadata": {},
   "outputs": [],
   "source": [
    "def get_questions_anwers(promt):\n",
    "    completion = openai.ChatCompletion.create(\n",
    "    model=\"gpt-3.5-turbo\",\n",
    "    messages=[\n",
    "        {\"role\": \"user\",\n",
    "         \"content\": promt}\n",
    "    ])\n",
    "    questions_answers = completion.choices[0].message.content\n",
    "    return questions_answers"
   ]
  },
  {
   "cell_type": "code",
   "execution_count": 79,
   "id": "3f1345bf",
   "metadata": {},
   "outputs": [],
   "source": [
    "def chatgpt(promt, idx, start_time):\n",
    "    success = False\n",
    "    while not success:\n",
    "        try:\n",
    "            qa_pairs = get_questions_anwers(promt)\n",
    "            success = True\n",
    "        except:\n",
    "            print(\"retrying\")\n",
    "            sleep(5)\n",
    "    if (idx + 1) % 5 == 0:\n",
    "        print(\"-\"*50)\n",
    "        print(f\"Processing {(idx + 1)} captions\")\n",
    "        end_time = time.time()\n",
    "        elapsed_time = end_time - start_time\n",
    "        print(f\"running time: {round(elapsed_time, 0)} seconds\")\n",
    "    return qa_pairs\n",
    "    "
   ]
  },
  {
   "cell_type": "code",
   "execution_count": 80,
   "id": "7608597c",
   "metadata": {},
   "outputs": [],
   "source": [
    "def caption_processing(caption):\n",
    "    remove_words =[\"in this image i can see \", \"in this image we can see\",  \"this is an image of, \", \"a cartoon of \", \"simpson\", \"homer\", \"a cartoon of \", \"cartoon \", \"this is an image of \"]\n",
    "    for remove_word in remove_words:\n",
    "        caption = caption.replace(remove_word, \"\")\n",
    "    replaced_by_person_words = [\"duck\", \"bear\", \" character\"]\n",
    "    for word in replaced_by_person_words:\n",
    "        caption.replace(word, \"person\")\n",
    "    caption.replace(\"characters\", \"people\")\n",
    "    caption.replace(\"simpsons\", \"people\")\n",
    "    return caption + \". people skin is yellow.\""
   ]
  },
  {
   "cell_type": "code",
   "execution_count": 81,
   "id": "756879e9",
   "metadata": {},
   "outputs": [
    {
     "name": "stdout",
     "output_type": "stream",
     "text": [
      "Processing 5 captions\n",
      "Processing 10 captions\n"
     ]
    }
   ],
   "source": [
    "def combined_promt(caption_1, caption_2, requirement):\n",
    "    \n",
    "    return f\"{requirement}\\ncontext 1: {caption_1} \\ncontext 2: {caption_2}\\noutput:\"\n",
    "\n",
    "def qa_generator(csv_path, demo = True):\n",
    "    start_time = time.time()\n",
    "    df = pd.read_csv(csv_path)\n",
    "    if demo:\n",
    "        df = df[:10]\n",
    "    df = df[[\"id\", \"img\", \"caption_1\", \"caption_2\"]]\n",
    "    df = df.rename(columns={'id': 'img_id'})\n",
    "    df['id'] = df.index\n",
    "    df[\"caption_1\"] = df[\"caption_1\"].map(caption_processing)\n",
    "    df[\"caption_2\"] = df[\"caption_2\"].map(caption_processing)\n",
    "    \n",
    "\n",
    "    requirement = \"You are required to ask about 10 questions about 2 given contexts. \" + \\\n",
    "    \"The question topics are: yes/no, counting, object, activity, \" + \\\n",
    "    \"color, posistion. Answer within 3 words.\\n\" + \\\n",
    "    \"context 1: a man is jumping to catch a ball.\\n\" + \\\n",
    "    \"context 2: a white ball is being catch by a man.\\n\" + \\\n",
    "    \"output:1. What is he doing?\\nJumping.\\n2. What sport is he playing?\\nFootball.\\n3. What color is the ball?\\nwhite.\"\n",
    "\n",
    "    df['promt'] = df[[\"caption_1\", \"caption_2\"]].apply(lambda row: combined_promt(row[\"caption_1\"], row[\"caption_2\"], requirement), axis=1)\n",
    "    df['qa pairs'] = df[['promt', \"id\"]].apply(lambda row: chatgpt(row[\"promt\"], row[\"id\"], start_time), axis=1)\n",
    "\n",
    "    return df\n",
    "\n",
    "result = qa_generator(\"clean_cartoon.csv\")"
   ]
  },
  {
   "cell_type": "code",
   "execution_count": 82,
   "id": "670d1e5e",
   "metadata": {},
   "outputs": [],
   "source": [
    "result2 = result[[\"img_id\", \"img\", \"qa pairs\"]]"
   ]
  },
  {
   "cell_type": "code",
   "execution_count": 83,
   "id": "de90f520",
   "metadata": {},
   "outputs": [],
   "source": [
    "def qa_processing(string):\n",
    "    lines = string.split('\\n')\n",
    "    \n",
    "    # Extract the question lines (odd indices)\n",
    "    questions = [line.split('. ')[1] for line in lines[::2]]\n",
    "    \n",
    "    # Extract the answer lines (even indices)\n",
    "    answers = [line for line in lines[1::2]]\n",
    "    return questions, answers"
   ]
  },
  {
   "cell_type": "code",
   "execution_count": 84,
   "id": "5e324bd9",
   "metadata": {},
   "outputs": [],
   "source": [
    "annotation_data = []\n",
    "question_data = []\n",
    "answer_id = 1\n",
    "question_id = 1\n",
    "img_ids = []\n",
    "imgs = []\n",
    "questions = []\n",
    "question_ids = []\n",
    "answers = []\n",
    "answer_ids = []\n",
    "for idx in range(len(result2)):    \n",
    "    img_id, img,  qa_pairs= result2.iloc[idx]\n",
    "    ques, ans = qa_processing(qa_pairs)\n",
    "    for i,q in enumerate(ques):\n",
    "        ques_item = {\n",
    "            'image_name': img,\n",
    "            'image_id': int(img_id),\n",
    "            'question': q,\n",
    "            'question_id': int(question_id)\n",
    "        }\n",
    "        question_data.append(ques_item)\n",
    "        \n",
    "        ann_item = {\n",
    "            'question_type': q.split(\" \")[0],\n",
    "            'answers': ans[i],\n",
    "            'image_id': int(img_id),\n",
    "            'question_id': int(question_id),\n",
    "            'answer_id': int(answer_id)\n",
    "        }\n",
    "\n",
    "        annotation_data.append(ann_item )\n",
    "        \n",
    "        img_ids.append(img_id)\n",
    "        imgs.append(img)\n",
    "        questions.append(q)\n",
    "        question_ids.append(question_id)\n",
    "        answers.append(ans[i])\n",
    "        answer_ids.append(answer_id)\n",
    "        answer_id += 1\n",
    "        question_id+=1\n",
    "        \n"
   ]
  },
  {
   "cell_type": "code",
   "execution_count": 85,
   "id": "37cf03e4",
   "metadata": {},
   "outputs": [],
   "source": [
    "info = {'description': 'This is v0.1 of the Cartoon-VQA dataset.',\n",
    "        'url': 'http://cartoonvqa.org',\n",
    "        'version': '0.1',\n",
    "        'year': 2023,\n",
    "        'contributor': 'Deakin Team',\n",
    "        'date_created': '2023-06-10'}"
   ]
  },
  {
   "cell_type": "code",
   "execution_count": 86,
   "id": "2cbf0013",
   "metadata": {},
   "outputs": [],
   "source": [
    "json_question_data ={\n",
    "    \"info\": info,\n",
    "    'data_type': \"The Simpsons\",\n",
    "    \"task_type\": \"Open-End\",\n",
    "    \"question\": question_data\n",
    "}\n",
    "with open(\"v0.1_cartoon_question.json\", \"w\") as json_file:\n",
    "    # Write the dictionary to the JSON file\n",
    "    json.dump(json_question_data, json_file)\n",
    "json_file.close()\n"
   ]
  },
  {
   "cell_type": "code",
   "execution_count": 87,
   "id": "61ec23d8",
   "metadata": {},
   "outputs": [],
   "source": [
    "json_annotation_data ={\n",
    "    \"info\": info,\n",
    "    'data_type': \"The Simpsons\",\n",
    "    \"task_type\": \"Open-End\",\n",
    "    \"annotations\": annotation_data\n",
    "}\n",
    "with open(\"v0.1_cartoon_annotations.json\", \"w\") as json_file:\n",
    "    # Write the dictionary to the JSON file\n",
    "    json.dump(json_annotation_data, json_file)\n",
    "json_file.close()"
   ]
  },
  {
   "cell_type": "code",
   "execution_count": 88,
   "id": "3ab84976",
   "metadata": {},
   "outputs": [],
   "source": [
    "data = pd.DataFrame([])\n",
    "data[\"id\"] = img_ids \n",
    "data[\"img\"] = imgs\n",
    "data[\"question id\"] = question_ids\n",
    "data[\"question\"] = questions\n",
    "data[\"answer id\"] = answer_ids\n",
    "data[\"answer\"] = answers\n",
    "data.to_csv(\"v0.1_cartoon_triples.csv\", index=False)\n"
   ]
  },
  {
   "cell_type": "code",
   "execution_count": 89,
   "id": "e38858b6",
   "metadata": {},
   "outputs": [],
   "source": [
    "data.to_csv(\"v0.1_cartoon_triples.csv\", index=False)"
   ]
  },
  {
   "cell_type": "code",
   "execution_count": null,
   "id": "815faa11",
   "metadata": {},
   "outputs": [],
   "source": []
  }
 ],
 "metadata": {
  "kernelspec": {
   "display_name": "Python 3 (ipykernel)",
   "language": "python",
   "name": "python3"
  },
  "language_info": {
   "codemirror_mode": {
    "name": "ipython",
    "version": 3
   },
   "file_extension": ".py",
   "mimetype": "text/x-python",
   "name": "python",
   "nbconvert_exporter": "python",
   "pygments_lexer": "ipython3",
   "version": "3.8.16"
  },
  "vscode": {
   "interpreter": {
    "hash": "916dbcbb3f70747c44a77c7bcd40155683ae19c65e1c03b4aa3499c5328201f1"
   }
  }
 },
 "nbformat": 4,
 "nbformat_minor": 5
}
